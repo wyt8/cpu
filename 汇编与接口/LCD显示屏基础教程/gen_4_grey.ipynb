{
 "cells": [
  {
   "cell_type": "code",
   "execution_count": null,
   "metadata": {},
   "outputs": [],
   "source": [
    "text = \"\"\"\n",
    "0X00,0X00,0X00,0XC0,0XC0,0X00,0X3F,0X03,0XC3,0XF3,0X00,0XC0,0X00,0XC0,0X00,0X00,\n",
    "0XF0,0X00,0X30,0X03,0X00,0XF3,0XF0,0XF0,0XF0,0XF0,0XF3,0X00,0X03,0X30,0X00,0XF0,\n",
    "0X0F,0X03,0X0C,0XC0,0X0F,0X0F,0X0F,0X3F,0X3F,0X0F,0X0F,0X0F,0XC0,0XCC,0X30,0X0F,\n",
    "0X00,0X00,0X00,0X03,0X03,0X30,0XCC,0XC3,0XC3,0XFC,0X00,0X0F,0X00,0X00,0X00,0X00\n",
    "\"\"\"\n",
    "\n",
    "# 记得删除最后一个 \",\"\n",
    "\n",
    "width = 16\n",
    "height = 16"
   ]
  },
  {
   "cell_type": "code",
   "execution_count": 8,
   "metadata": {},
   "outputs": [
    {
     "name": "stdout",
     "output_type": "stream",
     "text": [
      "[[0, 0, 0, 0, 0, 0, 3, 3, 3, 3, 0, 0, 0, 0, 0, 0], [0, 0, 0, 0, 0, 0, 3, 0, 0, 0, 0, 0, 0, 0, 0, 0], [0, 0, 0, 0, 0, 0, 3, 0, 0, 3, 0, 0, 0, 0, 0, 0], [0, 0, 0, 3, 3, 0, 0, 0, 3, 3, 0, 3, 0, 3, 0, 0], [0, 0, 0, 3, 0, 3, 0, 0, 0, 0, 3, 0, 3, 0, 0, 0], [0, 0, 0, 0, 0, 0, 0, 0, 0, 0, 0, 0, 0, 0, 0, 0], [3, 0, 3, 0, 0, 3, 3, 3, 3, 3, 3, 0, 0, 3, 0, 3], [3, 0, 0, 0, 0, 3, 3, 3, 3, 3, 3, 0, 0, 0, 0, 3], [3, 3, 0, 0, 3, 3, 3, 3, 3, 3, 3, 3, 0, 0, 0, 3], [3, 0, 3, 0, 3, 3, 3, 3, 3, 3, 3, 3, 0, 3, 0, 3], [0, 0, 0, 0, 0, 0, 0, 3, 3, 0, 0, 0, 0, 0, 3, 0], [0, 0, 0, 3, 0, 0, 0, 0, 0, 0, 0, 0, 3, 3, 0, 0], [0, 0, 0, 3, 3, 0, 0, 3, 3, 0, 0, 3, 0, 0, 0, 0], [0, 0, 0, 0, 0, 0, 3, 0, 0, 3, 0, 3, 0, 0, 0, 0], [0, 0, 0, 0, 0, 3, 0, 0, 0, 3, 0, 0, 0, 0, 0, 0], [0, 0, 0, 0, 0, 0, 3, 3, 3, 3, 0, 0, 0, 0, 0, 0]]\n"
     ]
    }
   ],
   "source": [
    "image = []\n",
    "\n",
    "line1 = []\n",
    "line2 = []\n",
    "line3 = []\n",
    "line4 = []\n",
    "\n",
    "for index, item in enumerate(text.split(\",\")):\n",
    "    item = int(item.strip(), base=16)\n",
    "    line1.append(item & 0b11)\n",
    "    line2.append((item >> 2) & 0b11)\n",
    "    line3.append((item >> 4) & 0b11)\n",
    "    line4.append((item >> 6) & 0b11)\n",
    "\n",
    "    if (index + 1) % width == 0:\n",
    "        image.extend([line1, line2, line3, line4])\n",
    "        line1 = []\n",
    "        line2 = []\n",
    "        line3 = []\n",
    "        line4 = []\n",
    "\n",
    "\n",
    "    # print(f\"{index} {item}\")\n",
    "print(image)"
   ]
  },
  {
   "cell_type": "code",
   "execution_count": 9,
   "metadata": {},
   "outputs": [
    {
     "name": "stdout",
     "output_type": "stream",
     "text": [
      "64\n",
      "\n",
      "0xc0, 0xc0, 0x0, 0x0, 0x40, 0x40, 0x18, 0x18, 0x8, 0x8, 0xd0, 0xd0, 0xc7, 0xc7, 0xc1, 0xc1, \n",
      "0xc9, 0xc9, 0xcd, 0xcd, 0xd0, 0xd0, 0x8, 0x8, 0x10, 0x10, 0x48, 0x48, 0x0, 0x0, 0xc0, 0xc0, \n",
      "0x3, 0x3, 0x1, 0x1, 0x2, 0x2, 0x18, 0x18, 0x13, 0x13, 0x43, 0x43, 0xa3, 0xa3, 0x97, 0x97, \n",
      "0x97, 0x97, 0xe3, 0xe3, 0x3, 0x3, 0x33, 0x33, 0x8, 0x8, 0xa, 0xa, 0x4, 0x4, 0x3, 0x3, \n"
     ]
    }
   ],
   "source": [
    "import numpy as np\n",
    "\n",
    "lcd_data = []\n",
    "\n",
    "image = np.array(image)\n",
    "\n",
    "for h in range(0, height, 8):\n",
    "    for w in range(width):\n",
    "        group = image[h:h+8, w]\n",
    "        byte1 = 0\n",
    "        byte2 = 0\n",
    "        for index, item in enumerate(group):\n",
    "            if item == 0:\n",
    "                byte1 = byte1 & ~(1 << index)\n",
    "                byte2 = byte2 & ~(1 << index)\n",
    "            elif item == 1:\n",
    "                byte1 = byte1 & ~(1 << index)\n",
    "                byte2 = byte2 | (1 << index)\n",
    "            elif item == 2:\n",
    "                byte1 = byte1 | (1 << index)\n",
    "                byte2 = byte2 & ~(1 << index)\n",
    "            elif item == 3:\n",
    "                byte1 = byte1 | (1 << index)\n",
    "                byte2 = byte2 | (1 << index)\n",
    "        lcd_data.extend([byte1, byte2])\n",
    "\n",
    "code = \"\"\n",
    "\n",
    "for index, item in enumerate(lcd_data):\n",
    "    if index % 16 == 0:\n",
    "        code += \"\\n\"\n",
    "    \n",
    "    code += hex(item) + \", \"\n",
    "print(len(lcd_data))\n",
    "\n",
    "print(code)"
   ]
  }
 ],
 "metadata": {
  "kernelspec": {
   "display_name": "Python 3",
   "language": "python",
   "name": "python3"
  },
  "language_info": {
   "codemirror_mode": {
    "name": "ipython",
    "version": 3
   },
   "file_extension": ".py",
   "mimetype": "text/x-python",
   "name": "python",
   "nbconvert_exporter": "python",
   "pygments_lexer": "ipython3",
   "version": "3.12.2"
  }
 },
 "nbformat": 4,
 "nbformat_minor": 2
}
